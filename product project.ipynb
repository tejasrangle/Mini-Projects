{
 "cells": [
  {
   "cell_type": "code",
   "execution_count": null,
   "metadata": {},
   "outputs": [
    {
     "name": "stdout",
     "output_type": "stream",
     "text": [
      "p1 ---- 100\n",
      "p2 ---- 200\n",
      "p3 ---- 300\n",
      "p4 ---- 400\n",
      "p5 ---- 500\n",
      "press1: To buy product\n",
      " Press2: Remove product\n",
      " press3: To clear cart\n",
      " press4: To Generate Bill\n",
      " press5: Exit1\n",
      "Enter product name:p1\n",
      "Enter Qty2\n",
      "p1 ---- 100\n",
      "p2 ---- 200\n",
      "p3 ---- 300\n",
      "p4 ---- 400\n",
      "p5 ---- 500\n",
      "press1: To buy product\n",
      " Press2: Remove product\n",
      " press3: To clear cart\n",
      " press4: To Generate Bill\n",
      " press5: Exit2\n",
      "ENter product name:p1\n",
      "Enter ur qty2\n",
      "p1 ---- 100\n",
      "p2 ---- 200\n",
      "p3 ---- 300\n",
      "p4 ---- 400\n",
      "p5 ---- 500\n",
      "press1: To buy product\n",
      " Press2: Remove product\n",
      " press3: To clear cart\n",
      " press4: To Generate Bill\n",
      " press5: Exit4\n",
      "Your cart= {'p1': 0}\n",
      "You final Amt: 0\n",
      "p1 ---- 100\n",
      "p2 ---- 200\n",
      "p3 ---- 300\n",
      "p4 ---- 400\n",
      "p5 ---- 500\n"
     ]
    }
   ],
   "source": [
    "product_dict={\"p1\":100,\"p2\":200,\"p3\":300,\"p4\":400,\"p5\":500}\n",
    "product_cart={}\n",
    "total_bill=0\n",
    "while True:\n",
    "    for i in product_dict:\n",
    "        print(i,\"----\",product_dict[i])\n",
    "    choice=int(input(\"press1: To buy product\\n Press2: Remove product\\n press3: To clear cart\\n press4: To Generate Bill\\n press5: Exit\"))\n",
    "    if choice==1:\n",
    "        p_name=input(\"Enter product name:\")\n",
    "        p_name=p_name.lower()\n",
    "        if p_name.lower() in product_dict:\n",
    "            p_qty=int(input(\"Enter Qty\"))\n",
    "            total_bill=total_bill+product_dict[p_name]*p_qty\n",
    "            if p_name.lower() in product_cart:\n",
    "                product_cart[p_name]=product_cart[p_name]+p_qty\n",
    "            else:\n",
    "                product_cart[p_name]=p_qty\n",
    "        else:\n",
    "            print(\"....NO SUCH PRODUCT....\")\n",
    "    elif choice==2:\n",
    "        p_name=input(\"ENter product name:\")\n",
    "        if p_name in product_cart:\n",
    "            p_qty=int(input(\"Enter ur qty\"))\n",
    "            available_qty=product_cart[p_name]\n",
    "            if available_qty>=p_qty:\n",
    "                total_bill=total_bill-(p_qty*product_dict[p_name])\n",
    "                product_cart[p_name]=product_cart[p_name]-p_qty\n",
    "            else:\n",
    "                print(\"insufficient qty\")\n",
    "        else:\n",
    "            print(\"PRODUCT NOT PRESENT\")\n",
    "\n",
    "    elif choice==3:\n",
    "        product_cart.clear()\n",
    "\n",
    "    elif choice==4:\n",
    "        print(\"Your cart=\",product_cart)\n",
    "        print(\"You final Amt:\",total_bill)\n",
    "    elif choice==5:\n",
    "        break\n",
    "\n",
    "    \n"
   ]
  },
  {
   "cell_type": "code",
   "execution_count": null,
   "metadata": {},
   "outputs": [],
   "source": []
  },
  {
   "cell_type": "code",
   "execution_count": null,
   "metadata": {},
   "outputs": [],
   "source": []
  },
  {
   "cell_type": "code",
   "execution_count": null,
   "metadata": {},
   "outputs": [],
   "source": []
  },
  {
   "cell_type": "code",
   "execution_count": null,
   "metadata": {},
   "outputs": [],
   "source": []
  },
  {
   "cell_type": "code",
   "execution_count": null,
   "metadata": {},
   "outputs": [],
   "source": []
  }
 ],
 "metadata": {
  "kernelspec": {
   "display_name": "Python 3",
   "language": "python",
   "name": "python3"
  },
  "language_info": {
   "codemirror_mode": {
    "name": "ipython",
    "version": 3
   },
   "file_extension": ".py",
   "mimetype": "text/x-python",
   "name": "python",
   "nbconvert_exporter": "python",
   "pygments_lexer": "ipython3",
   "version": "3.8.3"
  }
 },
 "nbformat": 4,
 "nbformat_minor": 5
}
